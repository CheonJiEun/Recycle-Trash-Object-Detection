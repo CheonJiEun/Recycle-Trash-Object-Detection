{
 "cells": [
  {
   "cell_type": "markdown",
   "id": "7b0989dc-8813-4b51-9fc0-fecad7f0b010",
   "metadata": {
    "tags": []
   },
   "source": [
    "## Pseudo Labeling\n",
    "submission.csv 파일을 통해 test dataset의 pseudo labeling json 파일 생성하기"
   ]
  },
  {
   "cell_type": "code",
   "execution_count": null,
   "id": "9fbf29b3-6771-42b9-9680-53fe1a687bf9",
   "metadata": {
    "tags": []
   },
   "outputs": [],
   "source": [
    "import os\n",
    "import cv2\n",
    "import numpy as np\n",
    "from pycocotools.coco import COCO\n",
    "import matplotlib.pyplot as plt\n",
    "import matplotlib.patches as patches\n",
    "import random\n",
    "import pandas as pd\n",
    "from PIL import Image\n",
    "import json"
   ]
  },
  {
   "cell_type": "code",
   "execution_count": null,
   "id": "77e007f4-3de7-49e2-9fa3-330f328da540",
   "metadata": {},
   "outputs": [],
   "source": [
    "# TODO : 실험파일명\n",
    "input_exp = '[test]example'\n",
    "# TODO : 실험파일 경로 설정하기\n",
    "result_dir = os.path.join('/opt/ml/baseline/mmdetection/configs/_teamconfig_/', input_exp)\n",
    "result_dir = os.path.join(result_dir, 'results')\n",
    "for file_name in os.listdir(result_dir):  # csv 파일 가져오기 (다른 이름으로 저장했을 대비)\n",
    "    if file_name.startswith('.'):\n",
    "        continue\n",
    "    submission_dir = os.path.join(result_dir, file_name)\n",
    "print(submission_dir)"
   ]
  },
  {
   "cell_type": "code",
   "execution_count": null,
   "id": "e7974735-5a7e-4339-aac3-2748c800ea68",
   "metadata": {
    "tags": []
   },
   "outputs": [],
   "source": [
    "submission_df = pd.read_csv(submission_dir)\n",
    "submission_df"
   ]
  },
  {
   "cell_type": "code",
   "execution_count": null,
   "id": "d3703068-9863-49b1-a9bd-861ae69bf1e3",
   "metadata": {
    "tags": []
   },
   "outputs": [],
   "source": [
    "image_num = 500000\n",
    "annotation_num = 500000\n",
    "\n",
    "new_images = []\n",
    "new_annotations = []\n",
    "unsearch_images = []\n",
    "for i in range(len(submission_df)):\n",
    "    image_id = submission_df['image_id'].tolist()[i]\n",
    "    predict_string = submission_df['PredictionString'].tolist()[i]\n",
    "    predict_list = str(predict_string).split()\n",
    "    if len(predict_list) <= 1:\n",
    "        print('unsearch image :', image_id)\n",
    "        unsearch_images.append(image_id)\n",
    "        continue\n",
    "    predict_list = np.reshape(predict_list, (-1, 6))\n",
    "    # print(predict_list)\n",
    "    for predict in predict_list:\n",
    "        category_id = predict[0]\n",
    "        xmin = float(predict[2])\n",
    "        ymin = float(predict[3])\n",
    "        xmax = float(predict[4])\n",
    "        ymax = float(predict[5])\n",
    "        width = xmax-xmin\n",
    "        height = ymax-ymin\n",
    "        new_annotations.append({\n",
    "            'image_id': image_num,\n",
    "            'category_id': int(category_id),\n",
    "            'area': round(width*height, 2),\n",
    "            'bbox': [round(xmin, 1), round(ymin, 1), round(width, 1), round(height, 1)],\n",
    "            'iscrowd': 0,\n",
    "            'id': annotation_num})\n",
    "        annotation_num += 1\n",
    "        \n",
    "    new_images.append({\n",
    "            'width': 1024,\n",
    "            'height': 1024,\n",
    "            'file_name': image_id,\n",
    "            'license': 0,\n",
    "            'flickr_url': None,\n",
    "            'coco_url': None,\n",
    "            'date_captured': None,\n",
    "            'id': image_num\n",
    "        })\n",
    "    image_num += 1"
   ]
  },
  {
   "cell_type": "code",
   "execution_count": null,
   "id": "e75f3fcc-3548-4fbd-b246-dcb2a5f832cd",
   "metadata": {
    "tags": []
   },
   "outputs": [],
   "source": [
    "unsearch_images"
   ]
  },
  {
   "cell_type": "markdown",
   "id": "97b81111-4cc7-4726-9e48-c54d9de55bd9",
   "metadata": {},
   "source": [
    "## bbox를 찾지 못한 test 이미지들을 확인해보기"
   ]
  },
  {
   "cell_type": "code",
   "execution_count": null,
   "id": "51c697e0-30a6-4bbc-bf0a-9d094688556c",
   "metadata": {
    "tags": []
   },
   "outputs": [],
   "source": [
    "if len(unsearch_images) != 0:\n",
    "    n = 0   # TODO : unsearch_images 인덱스 입력\n",
    "    image = cv2.imread(os.path.join('/opt/ml/dataset/', unsearch_images[n]))\n",
    "    image = cv2.cvtColor(image, cv2.COLOR_BGR2RGB).astype(np.float32)\n",
    "    image /= 255.0\n",
    "\n",
    "    plt.figure(figsize=(4, 4))\n",
    "    plt.xticks([])\n",
    "    plt.yticks([])\n",
    "    plt.imshow(image)"
   ]
  },
  {
   "cell_type": "code",
   "execution_count": null,
   "id": "de25dd6e-6bcb-42d9-9534-2daf07979aeb",
   "metadata": {
    "tags": []
   },
   "outputs": [],
   "source": [
    "# TODO : 합칠 train json 파일 경로\n",
    "train_json = '/opt/ml/dataset/train2_swj_battery_mosaic2.json'\n",
    "with open(train_json, 'r') as f:\n",
    "    data = json.load(f)\n",
    "    info = data['info']\n",
    "    licenses = data['licenses']\n",
    "    images = data['images']\n",
    "    categories = data['categories']\n",
    "    annotations = data['annotations']"
   ]
  },
  {
   "cell_type": "code",
   "execution_count": null,
   "id": "6eecfb4d-1f13-4215-b8ae-9e930437df8c",
   "metadata": {
    "tags": []
   },
   "outputs": [],
   "source": [
    "images.extend(new_images)\n",
    "annotations.extend(new_annotations)\n",
    "\n",
    "# train + test labeling json 파일\n",
    "train_test_labeling = '/opt/ml/dataset/train_test_labeling.json'\n",
    "with open(train_test_labeling, 'w') as f:\n",
    "    json.dump({ 'info': info, 'licenses': licenses, 'images': images, \n",
    "            'annotations': annotations, 'categories': categories}, f)\n",
    "\n",
    "# only test labeling json 파일\n",
    "test_labeling = '/opt/ml/dataset/test_labeling.json'\n",
    "with open(test_labeling, 'w') as f:\n",
    "    json.dump({ 'info': info, 'licenses': licenses, 'images': new_images, \n",
    "            'annotations': new_annotations, 'categories': categories}, f)"
   ]
  },
  {
   "cell_type": "markdown",
   "id": "b62a9b7f-85f8-4577-92c4-9328c7d78a8d",
   "metadata": {},
   "source": [
    "## Test Image BBOX 확인해보기"
   ]
  },
  {
   "cell_type": "code",
   "execution_count": null,
   "id": "9cd4afb5-eafd-464c-bbf7-db9c7f43be8f",
   "metadata": {
    "tags": []
   },
   "outputs": [],
   "source": [
    "data_dir = '/opt/ml/dataset'\n",
    "annotation = test_labeling\n",
    "coco = COCO(annotation)\n",
    "\n",
    "classes = [\"General trash\", \"Paper\", \"Paper pack\", \"Metal\", \"Glass\", \"Plastic\", \"Styrofoam\", \"Plastic bag\", \"Battery\", \"Clothing\"]\n",
    "LABELCOLORS = ['red', 'orange', 'yellow', 'greenyellow', 'green', 'turquoise', 'blue', 'indigo', 'purple', 'black']\n",
    "fig, ax = plt.subplots(figsize=(12, 12))\n",
    "\n",
    "for i in range(1, 17):\n",
    "    n = random.randrange(500000, image_num-1)\n",
    "    image_id = coco.getImgIds(imgIds=n)\n",
    "    image_info = coco.loadImgs(image_id)[0]\n",
    "    box = [x['bbox'] for x in coco.loadAnns(coco.getAnnIds(imgIds=image_info['id']))]\n",
    "    cat = [coco.loadCats(x['category_id'])[0]['name'] for x in coco.loadAnns(coco.getAnnIds(imgIds=image_info['id']))]\n",
    "\n",
    "    image = cv2.imread(os.path.join(data_dir, image_info['file_name']))\n",
    "    image = cv2.cvtColor(image, cv2.COLOR_BGR2RGB).astype(np.float32)\n",
    "    image /= 255.0\n",
    "\n",
    "    ax = fig.add_subplot(4, 4, i, aspect=1)\n",
    "    ax.set_title(image_info['file_name'])\n",
    "    plt.xticks([])\n",
    "    plt.yticks([])\n",
    "    for (x, y, w, h), c in zip(box, cat):\n",
    "        label_color = LABELCOLORS[classes.index(c)]\n",
    "        ax.add_patch(patches.Rectangle((x, y), w, h, edgecolor=label_color, linewidth=1, fill=False))\n",
    "        if annotation:\n",
    "            ax.text(x, y-5, c, fontsize=9, color=label_color)\n",
    "    plt.imshow(image)"
   ]
  }
 ],
 "metadata": {
  "kernelspec": {
   "display_name": "Python 3 (ipykernel)",
   "language": "python",
   "name": "python3"
  },
  "language_info": {
   "codemirror_mode": {
    "name": "ipython",
    "version": 3
   },
   "file_extension": ".py",
   "mimetype": "text/x-python",
   "name": "python",
   "nbconvert_exporter": "python",
   "pygments_lexer": "ipython3",
   "version": "3.7.16"
  }
 },
 "nbformat": 4,
 "nbformat_minor": 5
}
